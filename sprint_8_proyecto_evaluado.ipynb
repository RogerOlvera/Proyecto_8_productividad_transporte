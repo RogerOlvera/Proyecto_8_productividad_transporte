{
 "cells": [
  {
   "cell_type": "markdown",
   "metadata": {},
   "source": [
    "# **Paso 4: Análisis exploratorio de datos - Compañias de taxis**"
   ]
  },
  {
   "cell_type": "markdown",
   "metadata": {},
   "source": [
    "## **4.1 Diccionario de datos**\n",
    "\n",
    "Además de los datos que recuperaste en las tareas anteriores te han dado un segundo archivo. Ahora tienes estos dos CSV:\n",
    "\n",
    "**/datasets/project_sql_result_01.csv. contiene los siguientes datos:**\n",
    "\n",
    "- company_name: nombre de la empresa de taxis\n",
    "\n",
    "- trips_amount: el número de viajes de cada compañía de taxis el 15 y 16 de noviembre de 2017. \n",
    "\n",
    "**/datasets/project_sql_result_04.csv. contiene los siguientes datos:**\n",
    "\n",
    "- dropoff_location_name: barrios de Chicago donde finalizaron los viajes\n",
    "\n",
    "- average_trips: el promedio de viajes que terminaron en cada barrio en noviembre de 2017."
   ]
  },
  {
   "cell_type": "markdown",
   "metadata": {},
   "source": [
    "## **4.2 Etapas**\n",
    "\n",
    "- Importar los archivos\n",
    "- Estudiar los datos que contienen\n",
    "- Realizar los ajustes ques sean necesarios de las bases de datos\n",
    "- Asegurarte de que los tipos de datos sean correctos\n",
    "- Identificar los 10 principales barrios en términos de finalización del recorrido\n",
    "- Análisis gráfico: empresas de taxis y número de viajes, los 10 barrios principales por número de finalizaciones\n",
    "- Conclusiones basadas en cada gráfico y explicar los resultados"
   ]
  },
  {
   "cell_type": "markdown",
   "metadata": {},
   "source": [
    "## **4.3 Objetivo:**\n",
    "\n",
    "Identificar los barrios mas productivos para las compañias de taxis."
   ]
  },
  {
   "cell_type": "markdown",
   "metadata": {},
   "source": [
    "## **4.4 Revisión de las bases de datos**"
   ]
  },
  {
   "cell_type": "markdown",
   "metadata": {},
   "source": [
    "### **4.4.1 Carga de librerias**"
   ]
  },
  {
   "cell_type": "code",
   "execution_count": 1,
   "metadata": {},
   "outputs": [
    {
     "name": "stdout",
     "output_type": "stream",
     "text": [
      "Librerías cargadas correctamente\n"
     ]
    }
   ],
   "source": [
    "# Cargar todas las librerías\n",
    "\n",
    "try:\n",
    "\n",
    "    import pandas as pd\n",
    "    import numpy as np\n",
    "    import seaborn as sns\n",
    "    from math import factorial\n",
    "    from scipy import stats as st\n",
    "    from matplotlib import pyplot as plt\n",
    "    print('Librerías cargadas correctamente')\n",
    "\n",
    "except Exception as error:\n",
    "\n",
    "    print('Error al cargar las librerías:\\n\\n', error)"
   ]
  },
  {
   "cell_type": "markdown",
   "metadata": {},
   "source": [
    "### **4.4.2 Carga de bases de datos**"
   ]
  },
  {
   "cell_type": "code",
   "execution_count": 2,
   "metadata": {},
   "outputs": [
    {
     "name": "stdout",
     "output_type": "stream",
     "text": [
      "Dataframe \"compañia_viajes\" cargados correctamente\n",
      "Dataframe \"barrios_viajes\" cargados correctamente\n"
     ]
    }
   ],
   "source": [
    "# Carga de las bases de datos\n",
    "\n",
    "try:\n",
    "\n",
    "    compañia_viajes = pd.read_csv('moved_project_sql_result_01.csv')\n",
    "    print('Dataframe \"compañia_viajes\" cargados correctamente')\n",
    "    barrios_viajes = pd.read_csv('moved_project_sql_result_04.csv')\n",
    "    print('Dataframe \"barrios_viajes\" cargados correctamente')\n",
    "\n",
    "except:\n",
    "    print('Error al cargar los datos')"
   ]
  },
  {
   "cell_type": "markdown",
   "metadata": {},
   "source": [
    "### **4.4.3 Revisión de los datos**"
   ]
  },
  {
   "cell_type": "markdown",
   "metadata": {},
   "source": [
    "#### **Revisión DataFrame \"compañia_viajes\"**"
   ]
  },
  {
   "cell_type": "code",
   "execution_count": 29,
   "metadata": {},
   "outputs": [
    {
     "name": "stdout",
     "output_type": "stream",
     "text": [
      "Info DatFrame \"compañia_viajes\":\n",
      "\n",
      "<class 'pandas.core.frame.DataFrame'>\n",
      "RangeIndex: 64 entries, 0 to 63\n",
      "Data columns (total 2 columns):\n",
      " #   Column        Non-Null Count  Dtype \n",
      "---  ------        --------------  ----- \n",
      " 0   company_name  64 non-null     object\n",
      " 1   trips_amount  64 non-null     int64 \n",
      "dtypes: int64(1), object(1)\n",
      "memory usage: 1.1+ KB\n",
      "None\n"
     ]
    }
   ],
   "source": [
    "# Info\n",
    "\n",
    "print('Info DatFrame \"compañia_viajes\":')\n",
    "print()\n",
    "print(compañia_viajes.info())"
   ]
  },
  {
   "cell_type": "code",
   "execution_count": 4,
   "metadata": {},
   "outputs": [
    {
     "name": "stdout",
     "output_type": "stream",
     "text": [
      "Muestra de los datos del DataFrame \"compañia_viajes\":\n",
      "\n",
      "                        company_name  trips_amount\n",
      "0                          Flash Cab         19558\n",
      "1          Taxi Affiliation Services         11422\n",
      "2                   Medallion Leasin         10367\n",
      "3                         Yellow Cab          9888\n",
      "4    Taxi Affiliation Service Yellow          9299\n",
      "5          Chicago Carriage Cab Corp          9181\n",
      "6                       City Service          8448\n",
      "7                           Sun Taxi          7701\n",
      "8          Star North Management LLC          7455\n",
      "9  Blue Ribbon Taxi Association Inc.          5953\n"
     ]
    }
   ],
   "source": [
    "# Muestra de los datos del DataFrame\n",
    "\n",
    "print('Muestra de los datos del DataFrame \"compañia_viajes\":')\n",
    "print()\n",
    "print(compañia_viajes.head(10))"
   ]
  },
  {
   "cell_type": "code",
   "execution_count": 5,
   "metadata": {},
   "outputs": [
    {
     "name": "stdout",
     "output_type": "stream",
     "text": [
      "Valores únicos del DataFrame \"compañia_viajes\":\n",
      "\n",
      "['Flash Cab' 'Taxi Affiliation Services' 'Medallion Leasin' 'Yellow Cab'\n",
      " 'Taxi Affiliation Service Yellow' 'Chicago Carriage Cab Corp'\n",
      " 'City Service' 'Sun Taxi' 'Star North Management LLC'\n",
      " 'Blue Ribbon Taxi Association Inc.' 'Choice Taxi Association'\n",
      " 'Globe Taxi' 'Dispatch Taxi Affiliation' 'Nova Taxi Affiliation Llc'\n",
      " 'Patriot Taxi Dba Peace Taxi Associat' 'Checker Taxi Affiliation'\n",
      " 'Blue Diamond' 'Chicago Medallion Management' '24 Seven Taxi'\n",
      " 'Chicago Medallion Leasing INC' 'Checker Taxi' 'American United'\n",
      " 'Chicago Independents' 'KOAM Taxi Association' 'Chicago Taxicab'\n",
      " 'Top Cab Affiliation' 'Gold Coast Taxi' 'Service Taxi Association'\n",
      " '5 Star Taxi' '303 Taxi' 'Setare Inc' 'American United Taxi Affiliation'\n",
      " 'Leonard Cab Co' 'Metro Jet Taxi A' 'Norshore Cab'\n",
      " '6742 - 83735 Tasha ride inc' '3591 - 63480 Chuks Cab'\n",
      " '1469 - 64126 Omar Jada' '6743 - 78771 Luhak Corp'\n",
      " '0118 - 42111 Godfrey S.Awir' '6574 - Babylon Express Inc.'\n",
      " 'Chicago Star Taxicab' '1085 - 72312 N and W Cab Co'\n",
      " '2809 - 95474 C & D Cab Co Inc.' '2092 - 61288 Sbeih company'\n",
      " '3011 - 66308 JBL Cab Inc.' '3620 - 52292 David K. Cab Corp.'\n",
      " '4615 - 83503 Tyrone Henderson' '3623 - 72222 Arrington Enterprises'\n",
      " '5074 - 54002 Ahzmi Inc' '2823 - 73307 Lee Express Inc'\n",
      " '4623 - 27290 Jay Kim' '3721 - Santamaria Express, Alvaro Santamaria'\n",
      " '5006 - 39261 Salifu Bawa' '2192 - 73487 Zeymane Corp'\n",
      " '6057 - 24657 Richard Addo' '5997 - 65283 AW Services Inc.' 'Metro Group'\n",
      " '5062 - 34841 Sam Mestas' '4053 - 40193 Adwar H. Nikola'\n",
      " '2733 - 74600 Benny Jona' '5874 - 73628 Sergey Cab Corp.'\n",
      " '2241 - 44667 - Felman Corp, Manuel Alonso' '3556 - 36214 RC Andrews Cab']\n"
     ]
    }
   ],
   "source": [
    "# Valores únicos del DataFrame\n",
    "\n",
    "print('Valores únicos del DataFrame \"compañia_viajes\":')\n",
    "print()\n",
    "print(compañia_viajes['company_name'].unique())"
   ]
  },
  {
   "cell_type": "code",
   "execution_count": 6,
   "metadata": {},
   "outputs": [
    {
     "name": "stdout",
     "output_type": "stream",
     "text": [
      "Valores ausentes del DataFrame \"compañia_viajes\":\n",
      "\n",
      "company_name    0\n",
      "trips_amount    0\n",
      "dtype: int64\n"
     ]
    }
   ],
   "source": [
    "# Valores ausentes del DataFrame\n",
    "\n",
    "print('Valores ausentes del DataFrame \"compañia_viajes\":')\n",
    "print()\n",
    "print(compañia_viajes.isna().sum())"
   ]
  },
  {
   "cell_type": "code",
   "execution_count": 7,
   "metadata": {},
   "outputs": [
    {
     "name": "stdout",
     "output_type": "stream",
     "text": [
      "Valores duplicados del DataFrame \"compañia_viajes\":\n",
      "\n",
      "0\n"
     ]
    }
   ],
   "source": [
    "# Valores dupliados del DataFrame\n",
    "\n",
    "print('Valores duplicados del DataFrame \"compañia_viajes\":')\n",
    "print()\n",
    "print(compañia_viajes.duplicated().sum())"
   ]
  },
  {
   "cell_type": "markdown",
   "metadata": {},
   "source": [
    "**Observaciones del dataset:**\n",
    "\n",
    "* 2 columnas, con estilo snake_case.\n",
    "* 64 filas, sin datos ausentes.\n",
    "* Se revisaron los valores únicos de las columna \"company_name\", no se encontraron valores erroneos."
   ]
  },
  {
   "cell_type": "markdown",
   "metadata": {},
   "source": [
    "#### **Revisión DataFrame \"barrios_viajes\"**"
   ]
  },
  {
   "cell_type": "code",
   "execution_count": 30,
   "metadata": {},
   "outputs": [
    {
     "name": "stdout",
     "output_type": "stream",
     "text": [
      "Info DatFrame \"barrios_viajes\":\n",
      "\n",
      "<class 'pandas.core.frame.DataFrame'>\n",
      "RangeIndex: 94 entries, 0 to 93\n",
      "Data columns (total 2 columns):\n",
      " #   Column                 Non-Null Count  Dtype  \n",
      "---  ------                 --------------  -----  \n",
      " 0   dropoff_location_name  94 non-null     object \n",
      " 1   average_trips          94 non-null     float64\n",
      "dtypes: float64(1), object(1)\n",
      "memory usage: 1.6+ KB\n",
      "None\n"
     ]
    }
   ],
   "source": [
    "# Info\n",
    "\n",
    "print('Info DatFrame \"barrios_viajes\":')\n",
    "print()\n",
    "print(barrios_viajes.info())"
   ]
  },
  {
   "cell_type": "code",
   "execution_count": 9,
   "metadata": {},
   "outputs": [
    {
     "name": "stdout",
     "output_type": "stream",
     "text": [
      "Muestra de los datos del DataFrame \"barrios_viajes\":\n",
      "\n",
      "  dropoff_location_name  average_trips\n",
      "0                  Loop   10727.466667\n",
      "1           River North    9523.666667\n",
      "2         Streeterville    6664.666667\n",
      "3             West Loop    5163.666667\n",
      "4                O'Hare    2546.900000\n",
      "5             Lake View    2420.966667\n",
      "6            Grant Park    2068.533333\n",
      "7         Museum Campus    1510.000000\n",
      "8            Gold Coast    1364.233333\n",
      "9    Sheffield & DePaul    1259.766667\n"
     ]
    }
   ],
   "source": [
    "# Muestra de los datos del DataFrame\n",
    "\n",
    "print('Muestra de los datos del DataFrame \"barrios_viajes\":')\n",
    "print()\n",
    "print(barrios_viajes.head(10))"
   ]
  },
  {
   "cell_type": "code",
   "execution_count": 10,
   "metadata": {},
   "outputs": [
    {
     "name": "stdout",
     "output_type": "stream",
     "text": [
      "Valores únicos del DataFrame \"barrios_viajes\":\n",
      "\n",
      "['Loop' 'River North' 'Streeterville' 'West Loop' \"O'Hare\" 'Lake View'\n",
      " 'Grant Park' 'Museum Campus' 'Gold Coast' 'Sheffield & DePaul'\n",
      " 'Lincoln Park' 'East Village' 'Little Italy, UIC' 'Uptown'\n",
      " 'Near South Side' 'Garfield Ridge' 'Logan Square' 'Edgewater' 'West Town'\n",
      " 'Old Town' 'Rush & Division' 'North Center' 'Lincoln Square'\n",
      " 'Rogers Park' 'West Ridge' 'Irving Park' 'Hyde Park' 'Avondale'\n",
      " 'Wicker Park' 'Albany Park' 'United Center' 'Lower West Side' 'Douglas'\n",
      " 'Portage Park' 'Humboldt Park' 'Norwood Park' 'Kenwood' 'Bridgeport'\n",
      " 'Armour Square' 'Jefferson Park' 'Bucktown' 'North Park' 'Garfield Park'\n",
      " 'Mckinley Park' 'Belmont Cragin' 'Boystown' 'Chinatown' 'Grand Boulevard'\n",
      " 'Austin' 'Sauganash,Forest Glen' 'South Shore' 'Woodlawn'\n",
      " 'Little Village' 'Jackson Park' 'North Lawndale' 'Dunning'\n",
      " 'Ukrainian Village' 'Hermosa' 'Englewood' 'Chatham' 'New City'\n",
      " 'Grand Crossing' 'Brighton Park' 'Andersonville' 'Oakland' 'Ashburn'\n",
      " 'Washington Park' 'Auburn Gresham' 'Clearing' 'Roseland' 'Wrigleyville'\n",
      " 'Edison Park' 'South Chicago' 'Chicago Lawn' 'Beverly' 'Calumet Heights'\n",
      " 'Washington Heights' 'Archer Heights' 'Gage Park' 'Fuller Park'\n",
      " 'West Lawn' 'Morgan Park' 'South Deering' 'Avalon Park' 'West Pullman'\n",
      " 'Montclare' 'West Elsdon' 'Pullman' 'Undef' 'Mount Greenwood' 'Hegewisch'\n",
      " 'Burnside' 'East Side' 'Riverdale']\n"
     ]
    }
   ],
   "source": [
    "# Valores únicos del DataFrame\n",
    "\n",
    "print('Valores únicos del DataFrame \"barrios_viajes\":')\n",
    "print()\n",
    "print(barrios_viajes['dropoff_location_name'].unique())"
   ]
  },
  {
   "cell_type": "code",
   "execution_count": 11,
   "metadata": {},
   "outputs": [
    {
     "name": "stdout",
     "output_type": "stream",
     "text": [
      "Valores ausentes del DataFrame \"barrios_viajes\":\n",
      "\n",
      "dropoff_location_name    0\n",
      "average_trips            0\n",
      "dtype: int64\n"
     ]
    }
   ],
   "source": [
    "# Valores ausentes del DataFrame\n",
    "\n",
    "print('Valores ausentes del DataFrame \"barrios_viajes\":')\n",
    "print()\n",
    "print(barrios_viajes.isna().sum())"
   ]
  },
  {
   "cell_type": "code",
   "execution_count": 12,
   "metadata": {},
   "outputs": [
    {
     "name": "stdout",
     "output_type": "stream",
     "text": [
      "Valores duplicados del DataFrame \"compañia_viajes\":\n",
      "\n",
      "0\n"
     ]
    }
   ],
   "source": [
    "# Valores duplicados del DataFrame\n",
    "\n",
    "print('Valores duplicados del DataFrame \"compañia_viajes\":')\n",
    "print()\n",
    "print(barrios_viajes.duplicated().sum())"
   ]
  },
  {
   "cell_type": "markdown",
   "metadata": {},
   "source": [
    "**Observaciones del dataset:**\n",
    "\n",
    "* 2 columnas, con estilo snake_case.\n",
    "* Tipos de datos correctos.\n",
    "* 94 filas, sin datos ausentes.\n",
    "* Se revisaron los valores únicos de las columna \"dropoff_location_name\", no se encontraron valores erroneos."
   ]
  },
  {
   "cell_type": "markdown",
   "metadata": {},
   "source": [
    "## **4.5 Análisis de las bases de datos**"
   ]
  },
  {
   "cell_type": "markdown",
   "metadata": {},
   "source": [
    "### **4.5.1 Top 10 barrios en términos de finalización.**"
   ]
  },
  {
   "cell_type": "code",
   "execution_count": 31,
   "metadata": {},
   "outputs": [
    {
     "name": "stdout",
     "output_type": "stream",
     "text": [
      "Top 10 barrios en términos de finalización de viajes:\n",
      "\n",
      "                       average_trips\n",
      "dropoff_location_name               \n",
      "Loop                        10727.47\n",
      "River North                  9523.67\n",
      "Streeterville                6664.67\n",
      "West Loop                    5163.67\n",
      "O'Hare                       2546.90\n",
      "Lake View                    2420.97\n",
      "Grant Park                   2068.53\n",
      "Museum Campus                1510.00\n",
      "Gold Coast                   1364.23\n",
      "Sheffield & DePaul           1259.77\n"
     ]
    }
   ],
   "source": [
    "# Top 10 barrios en terminos de finalización de viajes\n",
    "\n",
    "top_10_barrios = round(barrios_viajes.pivot_table(index='dropoff_location_name', values='average_trips', aggfunc='sum').sort_values(by='average_trips', ascending=False),2)\n",
    "\n",
    "print('Top 10 barrios en términos de finalización de viajes:')\n",
    "print()\n",
    "print(top_10_barrios.head(10))"
   ]
  },
  {
   "cell_type": "code",
   "execution_count": 14,
   "metadata": {},
   "outputs": [
    {
     "data": {
      "text/plain": [
       "Text(0, 0.5, 'Promedio de viajes')"
      ]
     },
     "execution_count": 14,
     "metadata": {},
     "output_type": "execute_result"
    },
    {
     "data": {
      "image/png": "[encoded data removed]",
      "text/plain": [
       "<Figure size 1000x300 with 1 Axes>"
      ]
     },
     "metadata": {},
     "output_type": "display_data"
    }
   ],
   "source": [
    "# Gráfica top 10 barrios en finalización de viajes\n",
    "\n",
    "top_10_barrios.head(10).plot(kind='bar', figsize=(10,3), color='lightgreen')\n",
    "plt.title('Top 10 barrios en finalización de viajes')\n",
    "plt.xlabel('Barrios')\n",
    "plt.ylabel('Promedio de viajes')"
   ]
  },
  {
   "cell_type": "markdown",
   "metadata": {},
   "source": [
    "**Conclusiones del gráfico**\n",
    "\n",
    "- La mayor cantidad de viajes promedio se realizan al barrio \"Loop\", con más de 10,000 viajes acumulados.\n",
    "- El barrio \"Loop\" debe de ser una ruta destino para cualquier compañía de taxis, ya que presenta una demanda considerable de servicios.\n",
    "- El segundo barrio con mas servicios de taxi es \"River North\", con 1,200 viajes promedio menos que a \"Loop\".\n",
    "- A partit del tercer barrio (\"Streeterville\") en orden descendente de viajes promedio, existe una diferencia considerable con poco más de 2,900 viajes de diferencia contra el segundo barrio (\"River North\").\n",
    "- El resto de los barrios son destinos con menor afluencia de viajes destino.\n",
    " "
   ]
  },
  {
   "cell_type": "markdown",
   "metadata": {},
   "source": [
    "### **4.5.2 Empresas de taxis y número de viajes.**"
   ]
  },
  {
   "cell_type": "code",
   "execution_count": 15,
   "metadata": {},
   "outputs": [
    {
     "name": "stdout",
     "output_type": "stream",
     "text": [
      "Viajes por cada empresa:\n",
      "\n",
      "                                           trips_amount\n",
      "company_name                                           \n",
      "Flash Cab                                         19558\n",
      "Taxi Affiliation Services                         11422\n",
      "Medallion Leasin                                  10367\n",
      "Yellow Cab                                         9888\n",
      "Taxi Affiliation Service Yellow                    9299\n",
      "...                                                 ...\n",
      "2733 - 74600 Benny Jona                               7\n",
      "4053 - 40193 Adwar H. Nikola                          7\n",
      "5874 - 73628 Sergey Cab Corp.                         5\n",
      "2241 - 44667 - Felman Corp, Manuel Alonso             3\n",
      "3556 - 36214 RC Andrews Cab                           2\n",
      "\n",
      "[64 rows x 1 columns]\n"
     ]
    }
   ],
   "source": [
    "# Empresas de viajes y número de viajes\n",
    "\n",
    "viajes_compañias = round(compañia_viajes.pivot_table(index='company_name',\n",
    "                       values='trips_amount', aggfunc='sum').sort_values(by='trips_amount', ascending=False), 2)\n",
    "\n",
    "print('Viajes por cada empresa:')\n",
    "print()\n",
    "print(viajes_compañias)"
   ]
  },
  {
   "cell_type": "code",
   "execution_count": 16,
   "metadata": {},
   "outputs": [
    {
     "name": "stdout",
     "output_type": "stream",
     "text": [
      "Viajes por cada empresa:\n",
      "\n",
      "                                   trips_amount\n",
      "company_name                                   \n",
      "Flash Cab                                 19558\n",
      "Taxi Affiliation Services                 11422\n",
      "Medallion Leasin                          10367\n",
      "Yellow Cab                                 9888\n",
      "Taxi Affiliation Service Yellow            9299\n",
      "Chicago Carriage Cab Corp                  9181\n",
      "City Service                               8448\n",
      "Sun Taxi                                   7701\n",
      "Star North Management LLC                  7455\n",
      "Blue Ribbon Taxi Association Inc.          5953\n"
     ]
    }
   ],
   "source": [
    "# Top 10 Empresas de viajes y número de viajes\n",
    "\n",
    "viajes_compañias = round(compañia_viajes.pivot_table(index='company_name', \n",
    "                                                     values='trips_amount', aggfunc='sum').sort_values(by='trips_amount', ascending=False), 2)\n",
    "\n",
    "print('Viajes por cada empresa:')\n",
    "print()\n",
    "print(viajes_compañias.head(10))"
   ]
  },
  {
   "cell_type": "code",
   "execution_count": 17,
   "metadata": {},
   "outputs": [
    {
     "data": {
      "text/plain": [
       "Text(0, 0.5, 'Viajes')"
      ]
     },
     "execution_count": 17,
     "metadata": {},
     "output_type": "execute_result"
    },
    {
     "data": {
      "image/png": "[encoded data removed]",
      "text/plain": [
       "<Figure size 1000x300 with 1 Axes>"
      ]
     },
     "metadata": {},
     "output_type": "display_data"
    }
   ],
   "source": [
    "# Gráfica top 10 empresas por cantidad de viajes\n",
    "\n",
    "viajes_compañias.head(10).plot(kind='bar', figsize=(10, 3), color='lightblue')\n",
    "plt.title('Top 10 empresas por cantidad de viajes')\n",
    "plt.xlabel('Empresa')\n",
    "plt.ylabel('Viajes')"
   ]
  },
  {
   "cell_type": "code",
   "execution_count": 18,
   "metadata": {},
   "outputs": [
    {
     "name": "stdout",
     "output_type": "stream",
     "text": [
      "Porcentaje de viajes por cada empresa:\n",
      "\n",
      "                                           trips_amount  %_viajes\n",
      "company_name                                                     \n",
      "Flash Cab                                         19558     14.24\n",
      "Taxi Affiliation Services                         11422      8.32\n",
      "Medallion Leasin                                  10367      7.55\n",
      "Yellow Cab                                         9888      7.20\n",
      "Taxi Affiliation Service Yellow                    9299      6.77\n",
      "...                                                 ...       ...\n",
      "2733 - 74600 Benny Jona                               7      0.01\n",
      "4053 - 40193 Adwar H. Nikola                          7      0.01\n",
      "5874 - 73628 Sergey Cab Corp.                         5      0.00\n",
      "2241 - 44667 - Felman Corp, Manuel Alonso             3      0.00\n",
      "3556 - 36214 RC Andrews Cab                           2      0.00\n",
      "\n",
      "[64 rows x 2 columns]\n"
     ]
    }
   ],
   "source": [
    "# % de viajes por cada empresa\n",
    "\n",
    "viajes_compañias['%_viajes'] = round(viajes_compañias['trips_amount'] / viajes_compañias['trips_amount'].sum() * 100, 2)\n",
    "\n",
    "print('Porcentaje de viajes por cada empresa:')\n",
    "print()\n",
    "print(viajes_compañias)"
   ]
  },
  {
   "cell_type": "markdown",
   "metadata": {},
   "source": [
    ",**Conclusiones del gráfico**\n",
    "\n",
    "- La compañía \"Flash Cab\" es la compañía que realiza más viajes, con 19,558 viajes que representan el 14.24% del total de los viajes.\n",
    "- La segunda compañía \"Taxi Affiliation Services\" realiza alrededor de 8,000 viajes menos que \"Flash Cab\" y cuenta con el 8.32% de los viajes.\n",
    "- El top 3 de empresas realizan más de 10,000 viajes.\n",
    "- A partir del 4to lugar (\"Medallion Leasin\"), las empresas realizan menos de 10,000 viajes.\n",
    "- Existen compañias que realizan menos de 10 viajes."
   ]
  },
  {
   "cell_type": "markdown",
   "metadata": {},
   "source": [
    "# **Paso 5: Prueba de hipótesis** "
   ]
  },
  {
   "cell_type": "markdown",
   "metadata": {},
   "source": [
    "## **5.1 Diccionario de datos**\n",
    "\n",
    "Archivo: project_sql_result_07.csv\n",
    "\n",
    "Contiene el resultado de la última consulta. \n",
    "Contiene datos sobre viajes desde el Loop hasta el Aeropuerto Internacional O'Hare. \n",
    "\n",
    "Valores de los campos de la tabla:\n",
    "\n",
    "* start_ts: fecha y hora de recogida.\n",
    "* weather_conditions: condiciones climáticas en el momento en el que comenzó el viaje.\n",
    "* duration_seconds: duración del viaje en segundos."
   ]
  },
  {
   "cell_type": "markdown",
   "metadata": {},
   "source": [
    "## **5.2 Análisis de la base de datos**"
   ]
  },
  {
   "cell_type": "code",
   "execution_count": 32,
   "metadata": {},
   "outputs": [
    {
     "name": "stdout",
     "output_type": "stream",
     "text": [
      "Dataframe \"viajes_sabados\" cargados correctamente\n"
     ]
    }
   ],
   "source": [
    "# Importar Dataframe\n",
    "\n",
    "try:\n",
    "\n",
    "    viajes_sabados = pd.read_csv('moved_project_sql_result_07.csv')\n",
    "    print('Dataframe \"viajes_sabados\" cargados correctamente')\n",
    "\n",
    "except:\n",
    "    print('Error al cargar los datos')"
   ]
  },
  {
   "cell_type": "code",
   "execution_count": 33,
   "metadata": {},
   "outputs": [
    {
     "name": "stdout",
     "output_type": "stream",
     "text": [
      "Info DatFrame \"viajes_sabados\":\n",
      "\n",
      "<class 'pandas.core.frame.DataFrame'>\n",
      "RangeIndex: 1068 entries, 0 to 1067\n",
      "Data columns (total 3 columns):\n",
      " #   Column              Non-Null Count  Dtype  \n",
      "---  ------              --------------  -----  \n",
      " 0   start_ts            1068 non-null   object \n",
      " 1   weather_conditions  1068 non-null   object \n",
      " 2   duration_seconds    1068 non-null   float64\n",
      "dtypes: float64(1), object(2)\n",
      "memory usage: 25.2+ KB\n",
      "None\n"
     ]
    }
   ],
   "source": [
    "# Info de DataFrame\n",
    "\n",
    "print('Info DatFrame \"viajes_sabados\":')\n",
    "print()\n",
    "print(viajes_sabados.info())"
   ]
  },
  {
   "cell_type": "code",
   "execution_count": 21,
   "metadata": {},
   "outputs": [
    {
     "name": "stdout",
     "output_type": "stream",
     "text": [
      "Valores ausentes: start_ts              0\n",
      "weather_conditions    0\n",
      "duration_seconds      0\n",
      "dtype: int64\n"
     ]
    }
   ],
   "source": [
    "# Valores ausentes del DataFrame\n",
    "\n",
    "print('Valores ausentes:', viajes_sabados.isna().sum())"
   ]
  },
  {
   "cell_type": "markdown",
   "metadata": {},
   "source": [
    "## **5.3 Prueba de hipótesis**"
   ]
  },
  {
   "cell_type": "markdown",
   "metadata": {},
   "source": [
    "### **5.3.1 Definición de hipótesis nula e hipótesis alternativa**\n",
    "\n",
    "* **Hipótesis Nula:** \"La duración promedio de los viajes desde el Loop hasta el Aeropuerto Internacional O'Hare **NO** cambia los sábados lluviosos\".\n",
    "\n",
    "* **Hipótesis alternativa:** \"La duración promedio de los viajes desde el Loop hasta el Aeropuerto Internacional O'Hare **CAMBIA** los sábados lluviosos\".\n",
    "\n",
    "La hipótesis nula se formula asumiendo que la duración de los viajes desde el Loop hasta el Aeropuerto Internacional O'Hare es igual los sábados lluviosos que cuando no llueve (no hay cambios entre las dos variables). \n",
    "\n",
    "La hipótesis alternativa establece la posible variación.\n",
    "\n",
    "Se aplica una prueba de Levene para verificar la diferencia entre las varianzas.\n",
    "\n",
    "Se define una prueba de dos colas de variables independientes ya que ninguna variable tiene influencia sobre la otra."
   ]
  },
  {
   "cell_type": "code",
   "execution_count": 22,
   "metadata": {},
   "outputs": [
    {
     "name": "stdout",
     "output_type": "stream",
     "text": [
      "Muestra \"Sábados lluviosos\":\n",
      "\n",
      "               start_ts weather_conditions  duration_seconds\n",
      "6   2017-11-04 16:00:00                Bad            2969.0\n",
      "30  2017-11-18 12:00:00                Bad            1980.0\n",
      "34  2017-11-04 17:00:00                Bad            2460.0\n",
      "51  2017-11-04 16:00:00                Bad            2760.0\n",
      "52  2017-11-18 12:00:00                Bad            2460.0\n",
      "\n",
      "Muestra \"Sábados sin_lluvia\":\n",
      "\n",
      "              start_ts weather_conditions  duration_seconds\n",
      "0  2017-11-25 16:00:00               Good            2410.0\n",
      "1  2017-11-25 14:00:00               Good            1920.0\n",
      "2  2017-11-25 12:00:00               Good            1543.0\n",
      "3  2017-11-04 10:00:00               Good            2512.0\n",
      "4  2017-11-11 07:00:00               Good            1440.0\n"
     ]
    }
   ],
   "source": [
    "# Filtro de datos para definir las dos variables: sábados con lluvia y sábados sin lluvia\n",
    "\n",
    "sabado_lluvioso = viajes_sabados[viajes_sabados['weather_conditions']=='Bad']\n",
    "\n",
    "print('Muestra \"Sábados lluviosos\":')\n",
    "print()\n",
    "print(sabado_lluvioso.head())\n",
    "\n",
    "print()\n",
    "\n",
    "sabado_sin_lluvia = viajes_sabados[viajes_sabados['weather_conditions']=='Good']\n",
    "\n",
    "print('Muestra \"Sábados sin_lluvia\":')\n",
    "print()\n",
    "print(sabado_sin_lluvia.head())\n"
   ]
  },
  {
   "cell_type": "code",
   "execution_count": 23,
   "metadata": {},
   "outputs": [
    {
     "name": "stdout",
     "output_type": "stream",
     "text": [
      "Estádisticas básicas \"sabado_lluvioso\":\n",
      "\n",
      "       duration_seconds\n",
      "count        180.000000\n",
      "mean        2427.205556\n",
      "std          721.314138\n",
      "min          480.000000\n",
      "25%         1962.000000\n",
      "50%         2540.000000\n",
      "75%         2928.000000\n",
      "max         4980.000000\n",
      "\n",
      "Estádisticas básicas \"sabado_sin_lluvia\":\n",
      "\n",
      "       duration_seconds\n",
      "count        888.000000\n",
      "mean        1999.675676\n",
      "std          759.198268\n",
      "min            0.000000\n",
      "25%         1389.750000\n",
      "50%         1800.000000\n",
      "75%         2460.000000\n",
      "max         7440.000000\n",
      "\n"
     ]
    }
   ],
   "source": [
    "# Estádisticas básicas de variables\n",
    "\n",
    "print('Estádisticas básicas \"sabado_lluvioso\":')\n",
    "print()\n",
    "\n",
    "print(sabado_lluvioso.describe())\n",
    "print()\n",
    "\n",
    "print('Estádisticas básicas \"sabado_sin_lluvia\":')\n",
    "print()\n",
    "\n",
    "print(sabado_sin_lluvia.describe())\n",
    "print()"
   ]
  },
  {
   "cell_type": "code",
   "execution_count": 24,
   "metadata": {},
   "outputs": [
    {
     "name": "stdout",
     "output_type": "stream",
     "text": [
      "Viajes con duración 0 en \"sabado_sin_lluvia\":\n",
      "start_ts              6\n",
      "weather_conditions    6\n",
      "duration_seconds      6\n",
      "dtype: int64\n"
     ]
    }
   ],
   "source": [
    "# Viajes con duración 0 en sábados sin lluvia\n",
    "\n",
    "viajes_0 = sabado_sin_lluvia[sabado_sin_lluvia['duration_seconds']==0]\n",
    "\n",
    "print('Viajes con duración 0 en \"sabado_sin_lluvia\":')\n",
    "print(viajes_0.count())"
   ]
  },
  {
   "cell_type": "code",
   "execution_count": 25,
   "metadata": {},
   "outputs": [
    {
     "name": "stdout",
     "output_type": "stream",
     "text": [
      "Varianza de la variable \"sabado_lluvioso\": 517403.56330246915\n",
      "\n",
      "Varianza de la variable \"sabado_sin_lluvia\": 575732.9308497686\n"
     ]
    }
   ],
   "source": [
    "# Varianzas de variables\n",
    "\n",
    "print('Varianza de la variable \"sabado_lluvioso\":', np.var(sabado_lluvioso['duration_seconds']))\n",
    "\n",
    "print()\n",
    "\n",
    "print('Varianza de la variable \"sabado_sin_lluvia\":',\n",
    "      np.var(sabado_sin_lluvia['duration_seconds']))"
   ]
  },
  {
   "cell_type": "code",
   "execution_count": 26,
   "metadata": {},
   "outputs": [
    {
     "data": {
      "image/png": "[encoded data removed]",
      "text/plain": [
       "<Figure size 800x300 with 1 Axes>"
      ]
     },
     "metadata": {},
     "output_type": "display_data"
    },
    {
     "data": {
      "image/png": "[encoded data removed]",
      "text/plain": [
       "<Figure size 800x300 with 1 Axes>"
      ]
     },
     "metadata": {},
     "output_type": "display_data"
    }
   ],
   "source": [
    "# Histograma de variables\n",
    "\n",
    "plt.figure(figsize=(8, 3))\n",
    "sns.histplot(sabado_lluvioso['duration_seconds'], color='lightgray', bins=50)\n",
    "plt.title('Histograma de la variable \"sabado_lluvioso\"')\n",
    "plt.xlabel('Duración en segundos')\n",
    "plt.ylabel('Frecuencia')\n",
    "\n",
    "plt.figure(figsize=(8, 3))\n",
    "sns.histplot(sabado_sin_lluvia['duration_seconds'], color='lightyellow', bins=50)\n",
    "plt.title('Histograma de la variable \"sabado_sin_lluvia\"')\n",
    "plt.xlabel('Duración en segundos')\n",
    "plt.ylabel('Frecuencia')\n",
    "\n",
    "plt.show()"
   ]
  },
  {
   "cell_type": "code",
   "execution_count": 27,
   "metadata": {},
   "outputs": [
    {
     "name": "stdout",
     "output_type": "stream",
     "text": [
      "Prueba de Levene para comparación de varianzas:\n",
      "\n",
      "Estadístico de prueba: 0.38853489683656073\n",
      "Valor p: 0.5332038671974493\n",
      "Las varianzas NO son significativamente diferentes\n"
     ]
    }
   ],
   "source": [
    "# Prueba de Levene de igualdad de varianzas\n",
    "\n",
    "print('Prueba de Levene para comparación de varianzas:')\n",
    "\n",
    "print()\n",
    "\n",
    "alpha = 0.05  # Nivel de significancia\n",
    "\n",
    "# Realizar la prueba\n",
    "stat, p = st.levene(sabado_lluvioso['duration_seconds'], sabado_sin_lluvia['duration_seconds'])\n",
    "\n",
    "# Imprimir los resultados\n",
    "print('Estadístico de prueba:', stat)\n",
    "print('Valor p:', p)\n",
    "\n",
    "# Si el valor p es menor que un nivel de significancia predefinido (por ejemplo, 0.05), se rechaza la hipótesis nula y se concluye que las varianzas son significativamente diferentes.\n",
    "\n",
    "if p < alpha:\n",
    "    print('Las varianzas son significativamente diferentes')\n",
    "else:\n",
    "    print('Las varianzas NO son significativamente diferentes')"
   ]
  },
  {
   "cell_type": "code",
   "execution_count": 28,
   "metadata": {},
   "outputs": [
    {
     "name": "stdout",
     "output_type": "stream",
     "text": [
      "Estadístico de prueba: 6.946177714041499\n",
      "Valor p: 6.517970327099473e-12\n",
      "\n",
      "Rechazamos la hipótesis nula: La duración promedio de los viajes desde el Loop hasta el Aeropuerto Internacional O'Hare NO cambia los sábados lluviosos\n"
     ]
    }
   ],
   "source": [
    "# Prueba de hipótesis\n",
    "\n",
    "# Las varianzas NO son diferentes\n",
    "\n",
    "stat, p = st.ttest_ind(\n",
    "    sabado_lluvioso['duration_seconds'], sabado_sin_lluvia['duration_seconds'], equal_var=True)\n",
    "\n",
    "print('Estadístico de prueba:', stat)\n",
    "print('Valor p:', p)\n",
    "print()\n",
    "\n",
    "# Si el \"valor p\" es menor a \"alpha\" rechazaremos la hipótesis\n",
    "\n",
    "if p < alpha:\n",
    "    print(\"Rechazamos la hipótesis nula: La duración promedio de los viajes desde el Loop hasta el Aeropuerto Internacional O'Hare NO cambia los sábados lluviosos\")\n",
    "else:\n",
    "    print(\"No podemos rechazar la hipótesis nula: La duración promedio de los viajes desde el Loop hasta el Aeropuerto Internacional O'Hare NO cambia los sábados lluviosos\")"
   ]
  },
  {
   "cell_type": "markdown",
   "metadata": {},
   "source": [
    "## **CONCLUSIONES**\n",
    "\n",
    "- Es probable que los viajes de sábados con lluvia duren más que en los sábados sin lluvia.\n",
    "- Los viajes en sábado lluvioso duran en promedio 2,427 segundos (40.4 minutos).\n",
    "- Los viajes en sábado sin lluvia duran en promedio 1,999 segundos (33.3 minutos)."
   ]
  }
 ],
 "metadata": {
  "kernelspec": {
   "display_name": "Python 3 (ipykernel)",
   "language": "python",
   "name": "python3"
  },
  "language_info": {
   "codemirror_mode": {
    "name": "ipython",
    "version": 3
   },
   "file_extension": ".py",
   "mimetype": "text/x-python",
   "name": "python",
   "nbconvert_exporter": "python",
   "pygments_lexer": "ipython3",
   "version": "3.9.19"
  },
  "toc": {
   "base_numbering": 1,
   "nav_menu": {},
   "number_sections": true,
   "sideBar": true,
   "skip_h1_title": true,
   "title_cell": "Table of Contents",
   "title_sidebar": "Contents",
   "toc_cell": false,
   "toc_position": {},
   "toc_section_display": true,
   "toc_window_display": false
  }
 },
 "nbformat": 4,
 "nbformat_minor": 2
}
